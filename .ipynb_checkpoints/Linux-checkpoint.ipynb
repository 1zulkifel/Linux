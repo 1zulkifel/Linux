{
 "cells": [
  {
   "cell_type": "markdown",
   "metadata": {},
   "source": [
    "# Linux\n",
    "\n",
    " - [x] Intro to OS\n",
    " - [x] Basics of Linux\n"
   ]
  },
  {
   "cell_type": "markdown",
   "metadata": {},
   "source": [
    "<font color='blue'>An operating system is the software that brings together a\n",
    "computer’s hardware and the different programs that you want to install on it.\n",
    "Without it, when you booted up your PC, you would not get anything on the\n",
    "monitor, and neither mouse nor keyboard will work. You would be unable to\n",
    "watch videos, listen to music, edit photos, or to simply write a note.\n",
    "   <font color='red'> operating system is responsible for doing the\n",
    "following tasks:\n",
    "- [x] Detect hardware\n",
    "- [x] Manage processes\n",
    "- [x] \n",
    "</font>\n",
    "<font color='green'> \n",
    "##Mojor functionality of OS\n",
    "    \n",
    "- [x] Resource Management: It works When multiple users connected to a single machine\n",
    "- [x] Process Management : \n",
    "- [x]\n",
    "- [x]\n",
    "- [x]\n",
    "   \n",
    "</font>\n",
    "</font>"
   ]
  },
  {
   "cell_type": "markdown",
   "metadata": {},
   "source": [
    "## Linux Commands\n",
    "<font color='green'> Making Directories\n",
    "    \n",
    "- [x] cd/ root Directories\n",
    "- [x] ls list all contents in root directory\n",
    "- [x] cd it means change derectory\n",
    "- [x] ~ till the\n",
    "- [x] cd .. is used for moving back\n",
    "- [x] mkdir for making folder\n",
    "- [x] touch for making file\n",
    "</font>\n"
   ]
  },
  {
   "cell_type": "code",
   "execution_count": null,
   "metadata": {},
   "outputs": [],
   "source": []
  }
 ],
 "metadata": {
  "kernelspec": {
   "display_name": "Python 3",
   "language": "python",
   "name": "python3"
  },
  "language_info": {
   "codemirror_mode": {
    "name": "ipython",
    "version": 3
   },
   "file_extension": ".py",
   "mimetype": "text/x-python",
   "name": "python",
   "nbconvert_exporter": "python",
   "pygments_lexer": "ipython3",
   "version": "3.7.4"
  }
 },
 "nbformat": 4,
 "nbformat_minor": 2
}
