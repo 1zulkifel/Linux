{
 "cells": [
  {
   "cell_type": "code",
   "execution_count": 7,
   "metadata": {},
   "outputs": [
    {
     "name": "stdout",
     "output_type": "stream",
     "text": [
      "(1, 'zulkifel')\n",
      "(2, 'ahmad')\n",
      "(3, 'ali')\n",
      "(4, 'wasim')\n",
      "(5, 'shuja')\n"
     ]
    }
   ],
   "source": [
    "name=['ahmad','ali','wasim','shuja']\n",
    "name.insert(0,'zulkifel')\n",
    "itr=1\n",
    "for mem in name:\n",
    "    statement=f'{(itr),(mem)}'\n",
    "    print(statement)\n",
    "    itr+=1"
   ]
  },
  {
   "cell_type": "code",
   "execution_count": 23,
   "metadata": {},
   "outputs": [
    {
     "name": "stdout",
     "output_type": "stream",
     "text": [
      "1: ZULKIFEL\n",
      "2: AHMAD\n",
      "3: ALI\n",
      "4: WASIM\n",
      "5: SHUJA\n"
     ]
    }
   ],
   "source": [
    "max_val=len(name)\n",
    "for index in range(0,max_val):\n",
    "    print(f'{index+1}: '+name[index].upper())"
   ]
  },
  {
   "cell_type": "code",
   "execution_count": 26,
   "metadata": {},
   "outputs": [
    {
     "name": "stdout",
     "output_type": "stream",
     "text": [
      "item copying zulkifel\n",
      "['zulkifel']\n",
      "item copying ahmad\n",
      "['zulkifel', 'ahmad']\n",
      "item copying ali\n",
      "['zulkifel', 'ahmad', 'ali']\n",
      "item copying wasim\n",
      "['zulkifel', 'ahmad', 'ali', 'wasim']\n",
      "item copying shuja\n",
      "['zulkifel', 'ahmad', 'ali', 'wasim', 'shuja']\n"
     ]
    }
   ],
   "source": [
    "import time\n",
    "up_list=[]\n",
    "for item in name:\n",
    "    print('item copying',item)\n",
    "    vab=up_list.append(item)\n",
    "    time.sleep (0.5)\n",
    "    print(up_list)"
   ]
  },
  {
   "cell_type": "code",
   "execution_count": 31,
   "metadata": {},
   "outputs": [
    {
     "name": "stdout",
     "output_type": "stream",
     "text": [
      "ali found\n"
     ]
    }
   ],
   "source": [
    "names=['ahmad','ali','wasim','shuja']\n",
    "name_found=False\n",
    "for name in names:\n",
    "    if name=='ali':\n",
    "        name_found=True\n",
    "if name_found:\n",
    "    print('ali found')\n",
    "else:\n",
    "    print('ali is not found')\n",
    "    \n",
    "    "
   ]
  },
  {
   "cell_type": "code",
   "execution_count": null,
   "metadata": {},
   "outputs": [],
   "source": []
  }
 ],
 "metadata": {
  "kernelspec": {
   "display_name": "Python 3",
   "language": "python",
   "name": "python3"
  },
  "language_info": {
   "codemirror_mode": {
    "name": "ipython",
    "version": 3
   },
   "file_extension": ".py",
   "mimetype": "text/x-python",
   "name": "python",
   "nbconvert_exporter": "python",
   "pygments_lexer": "ipython3",
   "version": "3.7.4"
  }
 },
 "nbformat": 4,
 "nbformat_minor": 2
}
